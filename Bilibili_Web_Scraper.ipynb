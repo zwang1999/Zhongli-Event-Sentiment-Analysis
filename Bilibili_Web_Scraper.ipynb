{
 "cells": [
  {
   "cell_type": "markdown",
   "metadata": {},
   "source": [
    "# Bilibili Web Scraper"
   ]
  },
  {
   "cell_type": "code",
   "execution_count": null,
   "metadata": {},
   "outputs": [],
   "source": [
    "import requests\n",
    "import json\n",
    "import time\n",
    "import pandas as pd\n",
    "from IPython.display import clear_output\n",
    "\n",
    "headers = {\n",
    "    'accept': 'text/html,application/xhtml+xml,application/xml;q=0.9,image/webp,image/apng,*/*;q=0.8',\n",
    "    'user-agent': 'Mozilla/5.0 (Windows NT 10.0; WOW64) AppleWebKit/537.36 (KHTML, like Gecko) Chrome/68.0.3440.106 Safari/537.36',\n",
    "}"
   ]
  },
  {
   "cell_type": "markdown",
   "metadata": {},
   "source": [
    "## Video"
   ]
  },
  {
   "cell_type": "code",
   "execution_count": null,
   "metadata": {},
   "outputs": [],
   "source": [
    "def video_url(page, oid):\n",
    "    # default page size is 20\n",
    "    return \"https://api.bilibili.com/x/v2/reply/main?next=\" + str(page) + \"&type=1&oid=\" + str(oid) + \"&mode=3\"\n",
    "\n",
    "page = 0\n",
    "oid = 712909579 #《原神》角色演示-「钟离：听书人」\n",
    "\n",
    "response = requests.get(url = video_url(page, oid), headers = headers)\n",
    "result = json.loads(response.text)\n",
    "total = result[\"data\"][\"cursor\"][\"all_count\"]\n",
    "\n",
    "start = time.time()\n",
    "df = pd.DataFrame(columns = [\"name\", \"level\", \"datetime\", \"content\", \"like\", \"rcount\"])\n",
    "while not result[\"data\"][\"cursor\"][\"is_end\"]:\n",
    "    for reply in result[\"data\"][\"replies\"]:\n",
    "        df2 = pd.DataFrame({\n",
    "            \"name\": [reply[\"member\"][\"uname\"]],\n",
    "            \"level\": [reply[\"member\"][\"level_info\"][\"current_level\"]],\n",
    "            \"datetime\": [time.strftime(\"%Y-%m-%d %H:%M:%S\", time.localtime(reply[\"ctime\"]))],\n",
    "            \"content\": [reply[\"content\"][\"message\"]],\n",
    "            \"like\": [reply[\"like\"]],\n",
    "            \"rcount\": [reply[\"rcount\"]]\n",
    "        })\n",
    "        df = pd.concat([df, df2], ignore_index = True)\n",
    "        df.reset_index()\n",
    "        \n",
    "        clear_output()\n",
    "        print(reply[\"content\"][\"message\"])\n",
    "        print(str(df.shape[0]) + \"/\" + str(total) + \", currently on page \" + str(page))\n",
    "        \n",
    "        now = time.time()\n",
    "        h = (now - start) // 3600\n",
    "        m = ((now - start) % 3600) // 60\n",
    "        s = (now - start) % 60\n",
    "        print(\"{:0>2}:{:0>2}:{:05.2f}\".format(int(h), int(m), s))\n",
    "    \n",
    "    page += 1\n",
    "    response = requests.get(url = video_url(page, oid), headers = headers)\n",
    "    result = json.loads(response.text)\n",
    "\n",
    "df.drop_duplicates(subset = [\"name\", \"datetime\", \"content\"], keep = \"first\", inplace = True)\n",
    "df.sort_values(by = [\"datetime\"], inplace = True)\n",
    "df.head()"
   ]
  },
  {
   "cell_type": "code",
   "execution_count": null,
   "metadata": {},
   "outputs": [],
   "source": [
    "df.to_csv(\"Zhong_Li.csv\")"
   ]
  },
  {
   "cell_type": "markdown",
   "metadata": {},
   "source": [
    "## Game Center"
   ]
  },
  {
   "cell_type": "code",
   "execution_count": null,
   "metadata": {},
   "outputs": [],
   "source": [
    "def game_url(page, game_id):\n",
    "    # default page size is 10\n",
    "    return \"https://line3-h5-pc-api.biligame.com/game/comment/page?game_base_id=\" + str(game_id) + \"&rank_type=2&page_num=\" + str(page)\n",
    "\n",
    "game_id = 103496 # 原神\n",
    "\n",
    "response = requests.get(url = game_url(1, game_id), headers = headers)\n",
    "result = json.loads(response.text)\n",
    "page_count = result[\"data\"][\"page_count\"]\n",
    "\n",
    "start = time.time()\n",
    "df = pd.DataFrame(columns = [\"name\", \"level\", \"datetime\", \"content\", \"grade\", \"up\", \"down\", \"rcount\"])\n",
    "for i in range(page_count, 0, -1):\n",
    "    response = requests.get(url = game_url(i, game_id), headers = headers)\n",
    "    result = json.loads(response.text)\n",
    "    for reply in result[\"data\"][\"list\"]:\n",
    "        df2 = pd.DataFrame({\n",
    "            \"name\": [reply[\"user_name\"]],\n",
    "            \"level\": [reply[\"user_level\"]],\n",
    "            \"datetime\": [reply[\"publish_time\"]],\n",
    "            \"content\": [reply[\"content\"]],\n",
    "            \"grade\": [reply[\"grade\"]],\n",
    "            \"up\": [reply[\"up_count\"]],\n",
    "            \"down\": [reply[\"down_count\"]],\n",
    "            \"rcount\": [len(reply[\"reply_list\"])]\n",
    "        })\n",
    "        df = pd.concat([df, df2], ignore_index = True)\n",
    "        df.reset_index()\n",
    "        \n",
    "        clear_output()\n",
    "        print(reply[\"content\"])\n",
    "        print(str(df.shape[0]) + \"/\" + str(page_count * 10) + \", currently on page \" + str(i))\n",
    "        \n",
    "        now = time.time()\n",
    "        h = (now - start) // 3600\n",
    "        m = ((now - start) % 3600) // 60\n",
    "        s = (now - start) % 60\n",
    "        print(\"{:0>2}:{:0>2}:{:05.2f}\".format(int(h), int(m), s))\n",
    "\n",
    "df.drop_duplicates(subset = [\"name\", \"datetime\", \"content\"], keep = \"first\", inplace = True)\n",
    "df.sort_values(by = [\"datetime\"], inplace = True)\n",
    "df.head()"
   ]
  },
  {
   "cell_type": "code",
   "execution_count": null,
   "metadata": {},
   "outputs": [],
   "source": [
    "df.to_csv(\"Genshin_Impact.csv\")"
   ]
  }
 ],
 "metadata": {
  "kernelspec": {
   "display_name": "Python 3",
   "language": "python",
   "name": "python3"
  },
  "language_info": {
   "codemirror_mode": {
    "name": "ipython",
    "version": 3
   },
   "file_extension": ".py",
   "mimetype": "text/x-python",
   "name": "python",
   "nbconvert_exporter": "python",
   "pygments_lexer": "ipython3",
   "version": "3.8.8"
  }
 },
 "nbformat": 4,
 "nbformat_minor": 2
}
